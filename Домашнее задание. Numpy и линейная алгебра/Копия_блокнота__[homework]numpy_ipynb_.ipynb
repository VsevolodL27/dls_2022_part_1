{
  "nbformat": 4,
  "nbformat_minor": 0,
  "metadata": {
    "colab": {
      "provenance": []
    },
    "kernelspec": {
      "display_name": "Python 3",
      "language": "python",
      "name": "python3"
    },
    "language_info": {
      "codemirror_mode": {
        "name": "ipython",
        "version": 3
      },
      "file_extension": ".py",
      "mimetype": "text/x-python",
      "name": "python",
      "nbconvert_exporter": "python",
      "pygments_lexer": "ipython3",
      "version": "3.7.3"
    }
  },
  "cells": [
    {
      "cell_type": "markdown",
      "metadata": {
        "id": "KxIquH6GK7kt"
      },
      "source": [
        "<p style=\"align: center;\"><img align=center src=\"https://s8.hostingkartinok.com/uploads/images/2018/08/308b49fcfbc619d629fe4604bceb67ac.jpg\" width=500 height=450/></p>\n",
        "\n",
        "\n",
        "<h3 style=\"text-align: center;\"><b>Школа глубокого обучения ФПМИ МФТИ, осень 2021</b></h3>\n",
        "\n",
        "## Домашнее задание: библиотека Numpy и линейная алгебра\n"
      ]
    },
    {
      "cell_type": "code",
      "metadata": {
        "id": "YEJ8DQ4QK7kx"
      },
      "source": [
        "import numpy as np\n",
        "import random\n",
        "import scipy.stats as sps"
      ],
      "execution_count": 1,
      "outputs": []
    },
    {
      "cell_type": "markdown",
      "metadata": {
        "id": "hYXhVX0eK7k2"
      },
      "source": [
        "### Задание 1\n",
        "В первой задаче вам предлагается перемножить две квадратные матрицы двумя способами -- без использования пакета ***numpy*** и с ним."
      ]
    },
    {
      "cell_type": "code",
      "metadata": {
        "id": "zJR8EANzK7k3",
        "colab": {
          "base_uri": "https://localhost:8080/"
        },
        "outputId": "999924a0-aedf-4634-bd50-e3dd29d17da0"
      },
      "source": [
        "# Для генерации матриц используем фукнцию random -- она используется для генерации случайных объектов\n",
        "# функция sample создает случайную выборку. В качестве аргумента ей передается кортеж (i,j),\n",
        "# здесь i -- число строк, j -- число столбцов.\n",
        "a = np.random.sample((100, 100))\n",
        "b = np.random.sample((100, 100))\n",
        "\n",
        "# Выведите размерность (ранг) каждой матрицы с помощью функции ndim.\n",
        "# Используйте функцию shape, что она вывела?\n",
        "\n",
        "# ========\n",
        "# Ваш код здесь\n",
        "# ========\n",
        "print(a)\n",
        "print(b)"
      ],
      "execution_count": 2,
      "outputs": [
        {
          "output_type": "stream",
          "name": "stdout",
          "text": [
            "[[0.18435628 0.65255458 0.37623361 ... 0.89387172 0.00767365 0.29270679]\n",
            " [0.96642623 0.09938168 0.87883329 ... 0.72158102 0.50408465 0.08131674]\n",
            " [0.5723234  0.07211461 0.97944534 ... 0.0202035  0.67525182 0.34702387]\n",
            " ...\n",
            " [0.6528494  0.0611689  0.85955981 ... 0.15333231 0.09199014 0.20944276]\n",
            " [0.75328673 0.60737771 0.64436993 ... 0.10219758 0.42440052 0.40107247]\n",
            " [0.50061095 0.21879012 0.08729822 ... 0.84798956 0.73612551 0.75160288]]\n",
            "[[0.45535017 0.01833659 0.52919926 ... 0.64278783 0.77085885 0.22938528]\n",
            " [0.66395811 0.5401138  0.79938081 ... 0.426592   0.74823564 0.61179653]\n",
            " [0.58437632 0.5698077  0.99405156 ... 0.41084268 0.74900968 0.72860268]\n",
            " ...\n",
            " [0.56760964 0.17589702 0.23709455 ... 0.12249393 0.94068936 0.42521076]\n",
            " [0.91777555 0.58647302 0.42001046 ... 0.6387367  0.22726602 0.06447552]\n",
            " [0.0980953  0.42571457 0.87585272 ... 0.6769894  0.88479742 0.02805623]]\n"
          ]
        }
      ]
    },
    {
      "cell_type": "code",
      "metadata": {
        "id": "bkWCI4TPK7k8"
      },
      "source": [
        "def mult(a, b):\n",
        "    \"\"\"\n",
        "    a: list of \"size\" lists, each contains \"size\" floats --- первая матрица-аргумент\n",
        "    b: list of \"size\" lists, each contains \"size\" floats --- вторая матрица-аргумент\n",
        "    return c: list of \"size\" lists, each contains \"size\" floats --- матрица, являющаяся результатом умножения матриц a и b\n",
        "\n",
        "    Функция принимает на вход две матрицы: a и b размерностью size x size\n",
        "    Возвращает матрицу их произведения a * b = c\n",
        "\n",
        "    Реализуйте умножение матриц без использования функций из пакета numpy\n",
        "    \"\"\"\n",
        "    n = len(a)\n",
        "    res_matrix = [[0 for i in range(n)] for j in range(n)]\n",
        "\n",
        "    for i in range(n):\n",
        "      for j in range(n):\n",
        "        for z in range(n):\n",
        "            res_matrix[i][j] += (a[i][z] * b[z][j])\n",
        "    return res_matrix"
      ],
      "execution_count": 3,
      "outputs": []
    },
    {
      "cell_type": "code",
      "metadata": {
        "id": "IIgYD1W5K7lB"
      },
      "source": [
        "def np_mult(a, b):\n",
        "    \"\"\"\n",
        "    a: np.array[size, size]             --- первая матрица-аргумент\n",
        "    b: np.array[size, size] --- вторая матрица-аргумент\n",
        "    return c: np.array[size, size]       --- матрица, являющаяся результатом умножения матриц a и b\n",
        "\n",
        "    Функция принимает на вход две матрицы: a и b размерностью size x size\n",
        "    Возвращает матрицу их произведения a * b = c\n",
        "\n",
        "    Реализуйте умножение матриц, используя функции из пакета numpy\n",
        "    \"\"\"\n",
        "    return a.dot(b)"
      ],
      "execution_count": 4,
      "outputs": []
    },
    {
      "cell_type": "code",
      "metadata": {
        "id": "tktkYzUHK7lE",
        "colab": {
          "base_uri": "https://localhost:8080/"
        },
        "outputId": "b90e25fc-9984-42cf-e830-9779ccf94828"
      },
      "source": [
        "%%time\n",
        "# засечем время работы функции без NumPy\n",
        "M1 = mult(a, b)"
      ],
      "execution_count": 5,
      "outputs": [
        {
          "output_type": "stream",
          "name": "stdout",
          "text": [
            "CPU times: user 1.19 s, sys: 4.32 ms, total: 1.2 s\n",
            "Wall time: 1.74 s\n"
          ]
        }
      ]
    },
    {
      "cell_type": "code",
      "metadata": {
        "id": "TmD0adgHK7lK",
        "colab": {
          "base_uri": "https://localhost:8080/"
        },
        "outputId": "b104015e-5597-493a-be32-90fb1e02e040"
      },
      "source": [
        "%%time\n",
        "# засечем время работы функции с NumPy\n",
        "M2 = np_mult(a, b)"
      ],
      "execution_count": 6,
      "outputs": [
        {
          "output_type": "stream",
          "name": "stdout",
          "text": [
            "CPU times: user 2.74 ms, sys: 4.15 ms, total: 6.89 ms\n",
            "Wall time: 13.3 ms\n"
          ]
        }
      ]
    },
    {
      "cell_type": "code",
      "metadata": {
        "id": "oftqyANQK7lS"
      },
      "source": [
        "# проверим корректность\n",
        "assert np.allclose(np.array(M1), M2)"
      ],
      "execution_count": 7,
      "outputs": []
    },
    {
      "cell_type": "markdown",
      "metadata": {
        "id": "2itTyTlcaHAu"
      },
      "source": [
        "### Задание 2"
      ]
    },
    {
      "cell_type": "markdown",
      "metadata": {
        "id": "BCemQSq-aEbO"
      },
      "source": [
        "Вам подаются на вход два вектора `a` и `b` в трехмерном пространстве. Заполните их случайными числами. Реализуйте их скалярное произведение с помощью  `NumPy` и без. Засеките время работы, как это показано в заданиях выше."
      ]
    },
    {
      "cell_type": "code",
      "metadata": {
        "id": "lWhr_gPSZ9o_",
        "colab": {
          "base_uri": "https://localhost:8080/"
        },
        "outputId": "a669c6d6-9db0-4fed-e9ff-e32d7a80f866"
      },
      "source": [
        "a = np.random.sample((1, 3))\n",
        "a = list(a)[0]\n",
        "b = np.random.sample((1, 3))\n",
        "b = list(b)[0]\n",
        "print(a, b)"
      ],
      "execution_count": 8,
      "outputs": [
        {
          "output_type": "stream",
          "name": "stdout",
          "text": [
            "[0.44783045 0.59740689 0.3590454 ] [0.58412278 0.90241985 0.52457271]\n"
          ]
        }
      ]
    },
    {
      "cell_type": "code",
      "metadata": {
        "id": "GjlkcHIWZ_ae"
      },
      "source": [
        "def scalar_product(a, b):\n",
        "    \"\"\"\n",
        "    a: np.array[, n] --- первая матрица-аргумент длиной n\n",
        "    b: np.array[, n] --- вторая матрица-аргумент длиной n\n",
        "    return c: float  --- результат скалярного произведения векторов a и b\n",
        "\n",
        "    Функция принимает на вход два вектора длиной n\n",
        "    Возвращает число, равное их скалярному произведению a x b = c\n",
        "\n",
        "    Реализуйте скалярное умножение векторов, не используя функции из пакета numpy\n",
        "\n",
        "    \"\"\"\n",
        "    s = 0\n",
        "    for x, y in zip(a, b):\n",
        "        s += x * y\n",
        "    return s"
      ],
      "execution_count": 9,
      "outputs": []
    },
    {
      "cell_type": "code",
      "metadata": {
        "id": "C2M-OAp5Z_6a"
      },
      "source": [
        "def np_scalar_product(a,b):\n",
        "    \"\"\"\n",
        "    a: np.array[, n] --- первая матрица-аргумент\n",
        "    b: np.array[, n] --- вторая матрица-аргумент\n",
        "    return c: float  --- результат скалярного произведения векторов a и b\n",
        "\n",
        "    Функция принимает на вход два вектора длиной n\n",
        "    Возвращает число, равное их скалярному произведению a x b = c\n",
        "\n",
        "    Реализуйте скалярное умножение векторов, используя функции из пакета numpy\n",
        "    \"\"\"\n",
        "    a = np.array(a)\n",
        "    b = np.array(b)\n",
        "    return a.dot(b)"
      ],
      "execution_count": 10,
      "outputs": []
    },
    {
      "cell_type": "code",
      "metadata": {
        "id": "BOQfYf-2aCQJ",
        "scrolled": true,
        "colab": {
          "base_uri": "https://localhost:8080/"
        },
        "outputId": "512ff0d9-c4c0-41a0-a968-ac7c4c11f63e"
      },
      "source": [
        "%time product_1 = scalar_product(a,b)\n",
        "%time product_2 = np_scalar_product(a,b)\n",
        "\n",
        "# проверим корректность:\n",
        "assert np.allclose(product_1, product_2)"
      ],
      "execution_count": 11,
      "outputs": [
        {
          "output_type": "stream",
          "name": "stdout",
          "text": [
            "CPU times: user 52 µs, sys: 0 ns, total: 52 µs\n",
            "Wall time: 58.4 µs\n",
            "CPU times: user 2.91 ms, sys: 1.84 ms, total: 4.75 ms\n",
            "Wall time: 5.23 ms\n"
          ]
        }
      ]
    },
    {
      "cell_type": "markdown",
      "metadata": {
        "id": "NHaHu6q1K7mH"
      },
      "source": [
        "Почему методы ***numpy*** оказываются эффективнее? Что вы можете сказать о скорости вычислений в NumPy?"
      ]
    },
    {
      "cell_type": "markdown",
      "metadata": {
        "id": "PqsTAb1M7TTQ"
      },
      "source": [
        "------------------"
      ]
    },
    {
      "cell_type": "markdown",
      "metadata": {
        "id": "_A3p2s4eK7mI"
      },
      "source": [
        "**Ответ:** Скорость вычислений вектоных и матричных операций в NumPy сильно превосходит скорость вычислений без него, по большей части потому, что функции numpy работаю с массивами данных одного типа (числовыми), это позволяет реализовать встроенные функции numpy на C/C++, что, конечно, делает numpy быстрее (функции, которые вызывает Numpy для работы с числовыми данными, сильно оптимизированы именно под эти задачи, а сам Python просто гоняет интерпретатор по циклу в таких операциях, что является чуть ли не самым большим замедлением в работе интерпретатора)."
      ]
    },
    {
      "cell_type": "markdown",
      "metadata": {
        "id": "mJXeUuznK7lm"
      },
      "source": [
        "### Задание 3\n",
        "Напишите функцию, которая находим сумму четных диагональных элементов квадратной матрицы. Если таких элементов нет, то вывести `0`. Используйте библиотеку Numpy"
      ]
    },
    {
      "cell_type": "code",
      "metadata": {
        "id": "qYNiKbK47TTS"
      },
      "source": [
        "def np_diag_2k(a):\n",
        "    \"\"\"\n",
        "    a: np.array[m, m] --- первая матрица-аргумент\n",
        "    return c: float   --- сумма элементов массива а, принадлежащих диагонали и являющимися четными\n",
        "\n",
        "    Функция принимает на вход квадратную матрицу размерностью m x m и возвращает число,\n",
        "    равное сумме четных диагональных элементов этой квадратной матрицы\n",
        "\n",
        "    В реализации этой функции необходимо использовать функционал пакета numpy\n",
        "\n",
        "    \"\"\"\n",
        "    return sum(np.diagonal(a)[np.diagonal(a)%2 == 0])"
      ],
      "execution_count": 12,
      "outputs": []
    },
    {
      "cell_type": "code",
      "metadata": {
        "id": "BdInn8_j7TTU",
        "colab": {
          "base_uri": "https://localhost:8080/"
        },
        "outputId": "3dfd8fbd-56c2-4aee-9c19-b6de4137c63b"
      },
      "source": [
        "# зададим некоторую квадратную матрицу\n",
        "a = np.random.randint(1, 10, size=(5, 5))\n",
        "a"
      ],
      "execution_count": 13,
      "outputs": [
        {
          "output_type": "execute_result",
          "data": {
            "text/plain": [
              "array([[8, 4, 2, 3, 7],\n",
              "       [7, 6, 8, 8, 6],\n",
              "       [2, 2, 4, 7, 9],\n",
              "       [6, 3, 4, 5, 3],\n",
              "       [9, 3, 6, 8, 4]])"
            ]
          },
          "metadata": {},
          "execution_count": 13
        }
      ]
    },
    {
      "cell_type": "code",
      "metadata": {
        "id": "ZR97Nt9N7TTW",
        "colab": {
          "base_uri": "https://localhost:8080/"
        },
        "outputId": "5b889e97-50e4-43db-aec3-57719c3ee387"
      },
      "source": [
        "%%time\n",
        "# засечем время работы функции с NumPy\n",
        "np_diag_2k(a)"
      ],
      "execution_count": 14,
      "outputs": [
        {
          "output_type": "stream",
          "name": "stdout",
          "text": [
            "CPU times: user 127 µs, sys: 19 µs, total: 146 µs\n",
            "Wall time: 154 µs\n"
          ]
        },
        {
          "output_type": "execute_result",
          "data": {
            "text/plain": [
              "22"
            ]
          },
          "metadata": {},
          "execution_count": 14
        }
      ]
    },
    {
      "cell_type": "markdown",
      "metadata": {
        "id": "cdcRkFzQ7TTY"
      },
      "source": [
        "### Задание 4\n",
        "​\n",
        "На вход дан двумерный массив $X$. Напишите функцию, которая для каждой строчки $(x = (x_1, x_2, \\ldots, x_n)$ массива $X$ строит строчку $s = (s_1, s_2, \\ldots, s_n)$,  где $s_k=x_1+...+x_k$, а затем выдаёт массив из построенных строчек. Используйте библиотеку <code>numpy</code> (вам поможет функция <code>cumsum</code>). Выходом функции должен быть двумерный <code>numpy</code>-массив той же формы, что и $X$.\n",
        "​"
      ]
    },
    {
      "cell_type": "code",
      "metadata": {
        "id": "REgL39ksK7lr"
      },
      "source": [
        "def cumsum(A):\n",
        "    \"\"\"\n",
        "    A: np.array[num_row, num_column]        --- матрица-аргумент\n",
        "    return S: np.array[num_row, num_column] --- выходная матрица кумулятивных сумм\n",
        "\n",
        "    Функция принимает на вход матрицу A размерностью n x m и возвращает\n",
        "    матрицу с той же размерностью n x m, i-ая строчка которой есть последовательность\n",
        "    кумулятивных сумм элементов i-ой строки матрицы A\n",
        "\n",
        "    В реализации этой функции необходимо использовать функционал пакета numpy\n",
        "\n",
        "    \"\"\"\n",
        "    return np.cumsum(A, axis=-1)"
      ],
      "execution_count": 15,
      "outputs": []
    },
    {
      "cell_type": "code",
      "metadata": {
        "id": "HcVN8MagK7lw",
        "colab": {
          "base_uri": "https://localhost:8080/"
        },
        "outputId": "8ed349a5-9e9a-4747-cc9e-03e5001e3170"
      },
      "source": [
        "# зададим некоторую последовательность и проверим ее на вашей функции.\n",
        "A = sps.uniform.rvs(size=10**3)\n",
        "\n",
        "%time S2 = cumsum(A)"
      ],
      "execution_count": 16,
      "outputs": [
        {
          "output_type": "stream",
          "name": "stdout",
          "text": [
            "CPU times: user 77 µs, sys: 0 ns, total: 77 µs\n",
            "Wall time: 83.9 µs\n"
          ]
        }
      ]
    },
    {
      "cell_type": "markdown",
      "metadata": {
        "id": "teVCPWZmK7l5"
      },
      "source": [
        "### Задание 5\n",
        "\n",
        "​\n",
        "Задан двумерный массив $X$. Для каждой строчки массива X необходимо сделать следующее преобразование.\n",
        "\n",
        "Пусть дана строчка x. Необходимо построить новый массив, где все элементы с нечетными индексами требуется заменить на число a (значение по умолчанию a=1). Все элементы с четными индексами нужно возвести в куб. Затем записать элементы в обратном порядке относительно их позиций. В конце требуется слить массив x с преобразованным x и вывести.\n",
        "\n",
        "Напишите функцию, которая выполняет данное преобразование для каждой строчки двумерного массива X. Массив X при этом должен остаться без изменений.\n",
        "\n",
        "Используйте библиотеку numpy.\n",
        "\n",
        "Пример:\n",
        "$X = [[100,200,300,400,500]]$ -> $[[100,a,300,a,500]]$ -> $[[500^3,a,300^3,a,100^3]]$ -> склеиваем -> $[[100,200,300,400,500,500^3,a,300^3,a,100^3]]$\n",
        "\n",
        "​"
      ]
    },
    {
      "cell_type": "code",
      "metadata": {
        "id": "0hmcvfDVK7l-"
      },
      "source": [
        "from copy import copy\n",
        "def np_transformation(X, a=1):\n",
        "    \"\"\"\n",
        "    X: np.array[num_row, num_column]          --- матрица-аргумент\n",
        "    a: float                                  --- значение для преобразования нечетных элементов строк в X\n",
        "    return S: np.array[num_row, num_column*2] --- матрица, где строки являются\n",
        "    сконкатенированными строками изначальной матрицы X со строками, являющимися их преобразованиями\n",
        "\n",
        "    Функция принимает на вход матрицу X размерностью n x m, число a и\n",
        "    возвращает  матрицу с размерностью n x m*2, i-ая строчка которой является склеенной\n",
        "    i-ой строкой X с ее преобразованием ее строки transformation(X[i]), записанном в обратном порядке,\n",
        "    где преобразование для числа k определено как:\n",
        "    transformation(k) = a if ind(k) % 2 == 0 else k**3\n",
        "\n",
        "    В реализации этой функции необходимо использовать функционал пакета numpy\n",
        "\n",
        "    \"\"\"\n",
        "    Y = X.copy()\n",
        "    Y[:, 1::2] = a\n",
        "    Y[:, 0::2] = Y[:,0::2]**3\n",
        "    Y = Y[:, ::-1]\n",
        "    return np.hstack((X, Y))"
      ],
      "execution_count": 17,
      "outputs": []
    },
    {
      "cell_type": "code",
      "metadata": {
        "id": "r2-JLMhxK7mE",
        "scrolled": true,
        "colab": {
          "base_uri": "https://localhost:8080/"
        },
        "outputId": "790e6e26-a3c3-49de-b38c-8a10b9a568b3"
      },
      "source": [
        "X = np.array([[i for i in range(1, 10, 2)]])\n",
        "%time S2 = np_transformation(X, 5)"
      ],
      "execution_count": 18,
      "outputs": [
        {
          "output_type": "stream",
          "name": "stdout",
          "text": [
            "CPU times: user 185 µs, sys: 28 µs, total: 213 µs\n",
            "Wall time: 192 µs\n"
          ]
        }
      ]
    },
    {
      "cell_type": "markdown",
      "metadata": {
        "id": "qa521fce7TTk"
      },
      "source": [
        "### Задание 6\n",
        "Написать функцию для кодирование массива (Run-length encoding). Все подряд идущие повторения элементов функция сжимает в один элемент и считает количество повторений этого элемента. Функция возвращает кортеж из двух векторов одинаковой длины. Первый содержит элементы, а второй — сколько раз их нужно повторить.\n",
        "\n",
        "Пример: encode(np.array([1, 2, 2, 3, 3, 1, 1, 5, 5, 2, 3, 3])) = (np.array[1, 2, 3, 1, 5, 2, 3]), np.array[1, 2, 2, 2, 2, 1, 2])"
      ]
    },
    {
      "cell_type": "code",
      "metadata": {
        "id": "4wD7OSVv7TTl"
      },
      "source": [
        "import itertools\n",
        "\n",
        "def np_encode(a):\n",
        "    \"\"\"\n",
        "    a: np.array[, n] --- вектор-аргумент длиной n\n",
        "    return (elems, repetitions): (np.array, np.array) --- выходной кортеж из вектора\n",
        "    элементов и вектора их количеств в подряд идущих повторениях\n",
        "\n",
        "    Функция принимает на вход вектор a длиной n, добавляет в вектор elem сжатые\n",
        "    в один элемент подряд идущие повторения элементов входного вектора a, в вектор\n",
        "    repetitions добавляет длины последовательностей подряд идущих повторений.\n",
        "    Затем функция возвращает кортеж векторов (elems, repetitions).\n",
        "\n",
        "    В реализации этой функции необходимо использовать функционал пакета numpy\n",
        "\n",
        "    \"\"\"\n",
        "    return [(x, list(y)) for x, y in itertools.groupby(X)]"
      ],
      "execution_count": 34,
      "outputs": []
    },
    {
      "cell_type": "code",
      "metadata": {
        "id": "P7YxojET7TTn",
        "colab": {
          "base_uri": "https://localhost:8080/"
        },
        "outputId": "270e82cd-d61b-49ca-e309-b019a18994d7"
      },
      "source": [
        "X = np.array([1, 2, 2, 3, 3, 1, 1, 5, 5, 2, 3, 3])\n",
        "\n",
        "%time num = np_encode(X)"
      ],
      "execution_count": 36,
      "outputs": [
        {
          "output_type": "stream",
          "name": "stdout",
          "text": [
            "CPU times: user 32 µs, sys: 4 µs, total: 36 µs\n",
            "Wall time: 41 µs\n"
          ]
        }
      ]
    }
  ]
}